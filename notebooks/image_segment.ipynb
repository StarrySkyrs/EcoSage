{
 "cells": [
  {
   "cell_type": "code",
   "execution_count": 4,
   "metadata": {},
   "outputs": [],
   "source": [
    "from fastsam import FastSAM, FastSAMPrompt\n",
    "\n",
    "model = FastSAM('./weights/FastSAM-s.pt')\n",
    "IMAGE_PATH = '../data/input_images/table_clutter.jpg'\n",
    "DEVICE = 'cpu'\n"
   ]
  },
  {
   "cell_type": "code",
   "execution_count": 5,
   "metadata": {},
   "outputs": [
    {
     "name": "stderr",
     "output_type": "stream",
     "text": [
      "\n",
      "[W NNPACK.cpp:53] Could not initialize NNPACK! Reason: Unsupported hardware.\n",
      "image 1/1 /Users/fatemehyazdanbakhsh/Documents/fatemeh_github/hackathone/hackathon-aug-2023-happy/notebooks/../data/input_images/table_clutter.jpg: 640x480 96 objects, 495.8ms\n",
      "Speed: 9.3ms preprocess, 495.8ms inference, 82.7ms postprocess per image at shape (1, 3, 640, 640)\n"
     ]
    }
   ],
   "source": [
    "result = model.predict(source=IMAGE_PATH)"
   ]
  },
  {
   "cell_type": "code",
   "execution_count": 6,
   "metadata": {},
   "outputs": [],
   "source": [
    "masks = result[0].masks.data"
   ]
  },
  {
   "cell_type": "code",
   "execution_count": 7,
   "metadata": {},
   "outputs": [
    {
     "data": {
      "image/png": "[encoded data removed]",
      "text/plain": [
       "<Figure size 1000x1000 with 96 Axes>"
      ]
     },
     "metadata": {},
     "output_type": "display_data"
    }
   ],
   "source": [
    "import matplotlib.pyplot as plt\n",
    "import torch  # Assuming you're using PyTorch\n",
    "\n",
    "def plot_slices(tensor_data, num_cols=4, figsize=(10, 10), cmap='gray'):\n",
    "    num_slices = tensor_data.shape[0]\n",
    "    num_rows = (num_slices + num_cols - 1) // num_cols  # Calculate the number of rows needed\n",
    "    \n",
    "    fig, axes = plt.subplots(num_rows, num_cols, figsize=figsize)\n",
    "    \n",
    "    for i in range(num_slices):\n",
    "        row = i // num_cols\n",
    "        col = i % num_cols\n",
    "        \n",
    "        slice_to_plot = tensor_data[i]\n",
    "        ax = axes[row, col]\n",
    "        ax.imshow(slice_to_plot, cmap=cmap)\n",
    "        ax.axis('off')  # Turn off axis labels and ticks\n",
    "        \n",
    "    # Remove any empty subplots\n",
    "    for i in range(num_slices, num_rows * num_cols):\n",
    "        row = i // num_cols\n",
    "        col = i % num_cols\n",
    "        fig.delaxes(axes[row, col])\n",
    "    \n",
    "    plt.tight_layout()\n",
    "    plt.show()\n",
    "\n",
    "\n",
    "# Call the function to plot slices\n",
    "plot_slices(result[0].masks.data)\n"
   ]
  },
  {
   "cell_type": "code",
   "execution_count": 53,
   "metadata": {},
   "outputs": [],
   "source": [
    "from PIL import Image\n",
    "import numpy as np\n",
    "\n",
    "def crop_image_using_tensor(tensor, image_path):\n",
    "    \"\"\"\n",
    "    Crop an image using tensor slices as masks with transparent backgrounds.\n",
    "\n",
    "    Parameters:\n",
    "    - tensor: a tensor where each slice is a mask. Can be a numpy ndarray or a PyTorch tensor.\n",
    "    - image_path (str): path to the image to be cropped.\n",
    "\n",
    "    Returns:\n",
    "    - List[Image.Image]: list of cropped image segments.\n",
    "    \"\"\"\n",
    "    \n",
    "    # Convert tensor to numpy if it's a PyTorch tensor\n",
    "    if hasattr(tensor, \"cpu\") and hasattr(tensor, \"numpy\"):\n",
    "        tensor = tensor.cpu().numpy()\n",
    "\n",
    "    # Load image using PIL and convert to RGBA\n",
    "    img = Image.open(image_path).convert('RGBA')\n",
    "    original_area = img.width * img.height\n",
    "    cropped_segments = []\n",
    "    for mask_slice in tensor:\n",
    "\n",
    "\n",
    "        # Convert tensor slice to numpy array and then to PIL Image\n",
    "        mask = Image.fromarray((mask_slice * 255).astype(np.uint8)).resize(img.size).convert(\"L\")\n",
    "        \n",
    "        mask_np = np.array(mask)\n",
    "        mask_area = np.sum(mask_np > 0)\n",
    "\n",
    "\n",
    "        if (0.011 * original_area <= mask_area) and (mask_area <= 0.5 * original_area):\n",
    "            \n",
    "            # Use a transparent image for compositing\n",
    "            transparent_img = Image.new('RGBA', img.size, (0, 0, 0, 0))\n",
    "            \n",
    "            # Composite images\n",
    "            cropped_segment = Image.composite(img, transparent_img, mask)\n",
    "            \n",
    "            # Find bounding box of the mask to further crop unnecessary parts\n",
    "            bbox = mask.getbbox()\n",
    "            if bbox:\n",
    "                cropped_segment = cropped_segment.crop(bbox)\n",
    "                cropped_segments.append(cropped_segment)\n",
    "        else:\n",
    "            print(f\"Mask area {mask_area} is not within the desired range. Skipping...\")\n",
    "\n",
    "    return cropped_segments\n"
   ]
  },
  {
   "cell_type": "code",
   "execution_count": 54,
   "metadata": {},
   "outputs": [
    {
     "name": "stdout",
     "output_type": "stream",
     "text": [
      "Mask area 25996 is not within the desired range. Skipping...\n",
      "Mask area 28003 is not within the desired range. Skipping...\n",
      "Mask area 30409 is not within the desired range. Skipping...\n",
      "Mask area 7941 is not within the desired range. Skipping...\n",
      "Mask area 7853 is not within the desired range. Skipping...\n",
      "Mask area 86828 is not within the desired range. Skipping...\n",
      "Mask area 13398 is not within the desired range. Skipping...\n",
      "Mask area 85512 is not within the desired range. Skipping...\n",
      "Mask area 114957 is not within the desired range. Skipping...\n",
      "Mask area 70819 is not within the desired range. Skipping...\n",
      "Mask area 7645350 is not within the desired range. Skipping...\n",
      "Mask area 5920 is not within the desired range. Skipping...\n",
      "Mask area 39491 is not within the desired range. Skipping...\n",
      "Mask area 10925 is not within the desired range. Skipping...\n",
      "Mask area 20400 is not within the desired range. Skipping...\n",
      "Mask area 19552 is not within the desired range. Skipping...\n",
      "Mask area 86085 is not within the desired range. Skipping...\n",
      "Mask area 12138 is not within the desired range. Skipping...\n",
      "Mask area 88252 is not within the desired range. Skipping...\n",
      "Mask area 11182 is not within the desired range. Skipping...\n",
      "Mask area 7236 is not within the desired range. Skipping...\n",
      "Mask area 43039 is not within the desired range. Skipping...\n",
      "Mask area 7420 is not within the desired range. Skipping...\n",
      "Mask area 7934 is not within the desired range. Skipping...\n",
      "Mask area 14878 is not within the desired range. Skipping...\n",
      "Mask area 11343 is not within the desired range. Skipping...\n",
      "Mask area 2429 is not within the desired range. Skipping...\n",
      "Mask area 27748 is not within the desired range. Skipping...\n",
      "Mask area 44696 is not within the desired range. Skipping...\n",
      "Mask area 5325 is not within the desired range. Skipping...\n",
      "Mask area 22820 is not within the desired range. Skipping...\n",
      "Mask area 32743 is not within the desired range. Skipping...\n",
      "Mask area 4607 is not within the desired range. Skipping...\n",
      "Mask area 41906 is not within the desired range. Skipping...\n",
      "Mask area 16540 is not within the desired range. Skipping...\n",
      "Mask area 4813 is not within the desired range. Skipping...\n",
      "Mask area 4712 is not within the desired range. Skipping...\n",
      "Mask area 10925 is not within the desired range. Skipping...\n",
      "Mask area 23781 is not within the desired range. Skipping...\n",
      "Mask area 4486 is not within the desired range. Skipping...\n",
      "Mask area 2968 is not within the desired range. Skipping...\n",
      "Mask area 5136 is not within the desired range. Skipping...\n",
      "Mask area 20199 is not within the desired range. Skipping...\n",
      "Mask area 5946 is not within the desired range. Skipping...\n",
      "Mask area 3409 is not within the desired range. Skipping...\n",
      "Mask area 8476 is not within the desired range. Skipping...\n",
      "Mask area 122791 is not within the desired range. Skipping...\n",
      "Mask area 2367 is not within the desired range. Skipping...\n",
      "Mask area 18050 is not within the desired range. Skipping...\n",
      "Mask area 12434 is not within the desired range. Skipping...\n",
      "Mask area 6789 is not within the desired range. Skipping...\n",
      "Mask area 74103 is not within the desired range. Skipping...\n",
      "Mask area 4477 is not within the desired range. Skipping...\n",
      "Mask area 8810 is not within the desired range. Skipping...\n",
      "Mask area 2686 is not within the desired range. Skipping...\n",
      "Mask area 56325 is not within the desired range. Skipping...\n",
      "Mask area 21038 is not within the desired range. Skipping...\n",
      "Mask area 14804 is not within the desired range. Skipping...\n",
      "Mask area 3230 is not within the desired range. Skipping...\n",
      "Mask area 4234 is not within the desired range. Skipping...\n",
      "Mask area 10081 is not within the desired range. Skipping...\n",
      "Mask area 83135 is not within the desired range. Skipping...\n",
      "Mask area 3623 is not within the desired range. Skipping...\n",
      "Mask area 17866 is not within the desired range. Skipping...\n",
      "Mask area 4123 is not within the desired range. Skipping...\n",
      "Mask area 3512 is not within the desired range. Skipping...\n",
      "Mask area 6841 is not within the desired range. Skipping...\n",
      "Mask area 15269 is not within the desired range. Skipping...\n",
      "Mask area 127370 is not within the desired range. Skipping...\n",
      "Mask area 10878 is not within the desired range. Skipping...\n",
      "Mask area 29124 is not within the desired range. Skipping...\n",
      "Mask area 16759 is not within the desired range. Skipping...\n",
      "Mask area 31771 is not within the desired range. Skipping...\n",
      "Mask area 5781 is not within the desired range. Skipping...\n",
      "Mask area 3994 is not within the desired range. Skipping...\n",
      "Mask area 2636 is not within the desired range. Skipping...\n",
      "Mask area 7820 is not within the desired range. Skipping...\n",
      "Mask area 2934 is not within the desired range. Skipping...\n",
      "Mask area 35768 is not within the desired range. Skipping...\n"
     ]
    }
   ],
   "source": [
    "cropped_segments = crop_image_using_tensor(masks,IMAGE_PATH)"
   ]
  },
  {
   "cell_type": "code",
   "execution_count": 66,
   "metadata": {},
   "outputs": [
    {
     "name": "stdout",
     "output_type": "stream",
     "text": [
      "hello\n"
     ]
    }
   ],
   "source": [
    "# print('hello')\n",
    "# for segment in cropped_segments: \n",
    "#     segment.show()"
   ]
  },
  {
   "cell_type": "code",
   "execution_count": 55,
   "metadata": {},
   "outputs": [
    {
     "name": "stdout",
     "output_type": "stream",
     "text": [
      "['../data/segmented_images/segment_1.png', '../data/segmented_images/segment_2.png', '../data/segmented_images/segment_3.png', '../data/segmented_images/segment_4.png', '../data/segmented_images/segment_5.png', '../data/segmented_images/segment_6.png', '../data/segmented_images/segment_7.png', '../data/segmented_images/segment_8.png', '../data/segmented_images/segment_9.png', '../data/segmented_images/segment_10.png', '../data/segmented_images/segment_11.png', '../data/segmented_images/segment_12.png', '../data/segmented_images/segment_13.png', '../data/segmented_images/segment_14.png', '../data/segmented_images/segment_15.png', '../data/segmented_images/segment_16.png', '../data/segmented_images/segment_17.png']\n"
     ]
    }
   ],
   "source": [
    "\n",
    "from PIL import Image\n",
    "import os\n",
    "\n",
    "def save_cropped_segments(cropped_segments, output_directory, base_filename=\"segment_\"):\n",
    "    \"\"\"\n",
    "    Save cropped image segments to the specified directory.\n",
    "\n",
    "    Parameters:\n",
    "    - cropped_segments (List[Image.Image]): list of cropped image segments.\n",
    "    - output_directory (str): path to the directory where the segments should be saved.\n",
    "    - base_filename (str, optional): base name for the cropped files. Defaults to \"segment_\".\n",
    "    \n",
    "    Returns:\n",
    "    - List[str]: list of file paths where segments are saved.\n",
    "    \"\"\"\n",
    "\n",
    "    # Ensure output directory exists\n",
    "    if not os.path.exists(output_directory):\n",
    "        os.makedirs(output_directory)\n",
    "\n",
    "    saved_files = []\n",
    "\n",
    "    for idx, segment in enumerate(cropped_segments, 1):\n",
    "        filename = f\"{base_filename}{idx}.png\"\n",
    "        file_path = os.path.join(output_directory, filename)\n",
    "        segment.save(file_path)\n",
    "        saved_files.append(file_path)\n",
    "\n",
    "    return saved_files\n",
    "\n",
    "# Example Usage\n",
    "output_dir = \"../data/segmented_images\"\n",
    "saved_file_paths = save_cropped_segments(cropped_segments, output_dir)\n",
    "print(saved_file_paths)  # This will print out the paths where the segments were saved\n",
    "\n"
   ]
  }
 ],
 "metadata": {
  "kernelspec": {
   "display_name": "Python 3.9.12 ('base')",
   "language": "python",
   "name": "python3"
  },
  "language_info": {
   "codemirror_mode": {
    "name": "ipython",
    "version": 3
   },
   "file_extension": ".py",
   "mimetype": "text/x-python",
   "name": "python",
   "nbconvert_exporter": "python",
   "pygments_lexer": "ipython3",
   "version": "3.9.12"
  },
  "orig_nbformat": 4,
  "vscode": {
   "interpreter": {
    "hash": "ab3b3c3d66fd621a61ae2bd092315f8a3c3e0f1b30a64eb0295ffe2404ced91e"
   }
  }
 },
 "nbformat": 4,
 "nbformat_minor": 2
}
